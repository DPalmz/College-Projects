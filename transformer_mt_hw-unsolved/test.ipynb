{
 "cells": [
  {
   "cell_type": "code",
   "execution_count": 1,
   "metadata": {},
   "outputs": [],
   "source": [
    "import torch\n",
    "import torch.nn as nn\n"
   ]
  },
  {
   "cell_type": "code",
   "execution_count": 3,
   "metadata": {},
   "outputs": [],
   "source": [
    "decoder_layers = nn.ModuleList([nn.Linear(2,2) for _ in range(1, 10)])"
   ]
  },
  {
   "cell_type": "code",
   "execution_count": 4,
   "metadata": {},
   "outputs": [
    {
     "data": {
      "text/plain": [
       "ModuleList(\n",
       "  (0): Linear(in_features=2, out_features=2, bias=True)\n",
       "  (1): Linear(in_features=2, out_features=2, bias=True)\n",
       "  (2): Linear(in_features=2, out_features=2, bias=True)\n",
       "  (3): Linear(in_features=2, out_features=2, bias=True)\n",
       "  (4): Linear(in_features=2, out_features=2, bias=True)\n",
       "  (5): Linear(in_features=2, out_features=2, bias=True)\n",
       "  (6): Linear(in_features=2, out_features=2, bias=True)\n",
       "  (7): Linear(in_features=2, out_features=2, bias=True)\n",
       "  (8): Linear(in_features=2, out_features=2, bias=True)\n",
       ")"
      ]
     },
     "execution_count": 4,
     "metadata": {},
     "output_type": "execute_result"
    }
   ],
   "source": [
    "decoder_layers"
   ]
  }
 ],
 "metadata": {
  "interpreter": {
   "hash": "0e5e8083c0597f90ec4d7f6d4e284e2f9a3924826af0a494d7e06a053a5a49ec"
  },
  "kernelspec": {
   "display_name": "Python 3.7.11 ('nlp_class')",
   "language": "python",
   "name": "python3"
  },
  "language_info": {
   "codemirror_mode": {
    "name": "ipython",
    "version": 3
   },
   "file_extension": ".py",
   "mimetype": "text/x-python",
   "name": "python",
   "nbconvert_exporter": "python",
   "pygments_lexer": "ipython3",
   "version": "3.7.11"
  },
  "orig_nbformat": 4
 },
 "nbformat": 4,
 "nbformat_minor": 2
}
